{
 "cells": [
  {
   "cell_type": "markdown",
   "metadata": {},
   "source": [
    "# Part 2: Data Cleaning - Treating Missing Values\n",
    "\n",
    "Now that we've treated the encoding problems (caused by special characters), let's complete the data cleaning process by treating missing values. \n",
    "\n",
    "We'll read the clean csv files we created in the previous exercise."
   ]
  },
  {
   "cell_type": "code",
   "execution_count": 5,
   "metadata": {},
   "outputs": [],
   "source": [
    "import numpy as np\n",
    "import pandas as pd\n",
    "import matplotlib.pyplot as plt\n",
    "import seaborn as sns\n",
    "\n",
    "# read the new, decoded csv files\n",
    "rounds = pd.read_csv(\"rounds_clean.csv\")\n",
    "companies = pd.read_csv(\"companies_clean.csv\", sep=\"\\t\")"
   ]
  },
  {
   "cell_type": "code",
   "execution_count": 11,
   "metadata": {},
   "outputs": [
    {
     "name": "stdout",
     "output_type": "stream",
     "text": [
      "66368\n",
      "66368\n",
      "0\n"
     ]
    }
   ],
   "source": [
    "# quickly verfify that there are 66368 unique companies in both\n",
    "# and that only the same 66368 are present in both files\n",
    "\n",
    "# unqiue values\n",
    "print(len(companies.permalink.unique()))\n",
    "print(len(rounds.company_permalink.unique()))\n",
    "\n",
    "# present in rounds but not in companies\n",
    "print(len(rounds.loc[~rounds['company_permalink'].isin(companies['permalink']), :]))"
   ]
  },
  {
   "cell_type": "markdown",
   "metadata": {},
   "source": [
    "## Missing Value Treatment\n",
    "\n",
    "Let's now move to missing value treatment. \n",
    "\n",
    "Let's have a look at the number of missing values in both the dfs."
   ]
  }
 ],
 "metadata": {
  "kernelspec": {
   "display_name": "Python 3",
   "language": "python",
   "name": "python3"
  },
  "language_info": {
   "codemirror_mode": {
    "name": "ipython",
    "version": 3
   },
   "file_extension": ".py",
   "mimetype": "text/x-python",
   "name": "python",
   "nbconvert_exporter": "python",
   "pygments_lexer": "ipython3",
   "version": "3.5.2"
  }
 },
 "nbformat": 4,
 "nbformat_minor": 2
}
